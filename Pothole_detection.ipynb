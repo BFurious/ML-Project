{
  "nbformat": 4,
  "nbformat_minor": 0,
  "metadata": {
    "colab": {
      "name": "Pothole detection.ipynb",
      "provenance": [],
      "collapsed_sections": []
    },
    "kernelspec": {
      "name": "python3",
      "display_name": "Python 3"
    },
    "language_info": {
      "name": "python"
    }
  },
  "cells": [
    {
      "cell_type": "code",
      "metadata": {
        "id": "yEPiN_KLmRqD"
      },
      "source": [
        "# •\tImport Sequential from keras.layers, to initialize our neural network model as a sequential network.\n",
        "# •\tImport Convolution2D from keras.layers, this is to perform the convolution operation\n",
        "# •\tImport MaxPooling2D from keras.layers, which is used for pooling operation.\n",
        "# •\tImport Flatten from keras.layers, which is used for Flattening.\n",
        "# •\tImport Dense from Keras API from keras.layers, which is used to perform the full connection of the neural network\n",
        "# •\tImport matplotlib library to plot the result graph. \n",
        "\n",
        "from keras.models import Sequential\n",
        "from keras.layers import Convolution2D\n",
        "from keras.layers import MaxPooling2D\n",
        "from keras.layers import Flatten\n",
        "from keras.layers import Dense\n",
        "import matplotlib.pyplot as plt\n",
        "\n",
        "\n",
        "# Initializing the CNN\n",
        "classifier  = Sequential()"
      ],
      "execution_count": null,
      "outputs": []
    },
    {
      "cell_type": "code",
      "metadata": {
        "colab": {
          "base_uri": "https://localhost:8080/"
        },
        "id": "42WHhzcRmcze",
        "outputId": "d342b626-4ad9-4929-cd45-25a37adbf50a"
      },
      "source": [
        "# Importing the dataset\n",
        "from google.colab import drive\n",
        "drive.mount('/content/gdrive')"
      ],
      "execution_count": null,
      "outputs": [
        {
          "output_type": "stream",
          "name": "stdout",
          "text": [
            "Drive already mounted at /content/gdrive; to attempt to forcibly remount, call drive.mount(\"/content/gdrive\", force_remount=True).\n"
          ]
        }
      ]
    },
    {
      "cell_type": "code",
      "metadata": {
        "id": "1WA5W38kmhhJ"
      },
      "source": [
        "# Step1: Convolution- creating feature map\n",
        "# By using sequential class object, we added a convolution layer by using the “Conv2D” function. The Conv2D function takes 4 arguments,\n",
        "# 1.\tThe Number of filters i.e. 32 here\n",
        "# 2.\tThe Shape each filter is going to be i.e. 3x3 here\n",
        "# 3.\tThe input shape and the type of image (RGB or Black and White) of each image i.e. the input image our CNN is going to be taking is of a 64x64 resolution and “3” stands for RGB, which is a color image.\n",
        "# 4.\tThe activation function we want to use, here ‘relu’ stands for a rectifier function.\n",
        "\n",
        "classifier.add(Convolution2D(32,3,3,input_shape=(64,64,3),activation='relu'))"
      ],
      "execution_count": null,
      "outputs": []
    },
    {
      "cell_type": "code",
      "metadata": {
        "id": "hCey5H7Omha-"
      },
      "source": [
        "# step2: Pooling- reducing the size of mat.\n",
        "# By using sequential class object, we added a pooling layer.\n",
        "# Here we are taking a 2x2 matrix because we’ll have minimum pixel loss and get a precise region where the feature is located.\n",
        "classifier.add(MaxPooling2D(pool_size=(2,2)))"
      ],
      "execution_count": null,
      "outputs": []
    },
    {
      "cell_type": "code",
      "metadata": {
        "id": "Lec_k4dUmnqh"
      },
      "source": [
        "classifier.add(Convolution2D(32,3,3,activation='relu'))\n",
        "classifier.add(MaxPooling2D(pool_size=(2,2)))"
      ],
      "execution_count": null,
      "outputs": []
    },
    {
      "cell_type": "code",
      "metadata": {
        "id": "GSslADnwmnju"
      },
      "source": [
        "# Step3: Flattening single vector.\n",
        "# We’ve used flatten function on “classifier” object which is already holding pooled image pixels and they need to be flattened. It doesn’t require any parameter.\n",
        "\n",
        "classifier.add(Flatten())"
      ],
      "execution_count": null,
      "outputs": []
    },
    {
      "cell_type": "code",
      "metadata": {
        "id": "7UbGOzd8mnbc"
      },
      "source": [
        "# step4: Full connection\n",
        "# Dense is the function to add a fully connected layer, \n",
        "# 1.\tThe Units takes the number of nodes that should be present in this hidden layer. i.e. We are using a power of 2 that’s 128. \n",
        "# 2.\tThe activation function we want to use, here ‘relu’ stands for a rectifier function.\n",
        "# 3.\tThe final layer contains only one node, and we will be using a sigmoid activation function for the final layer.\n",
        "\n",
        "classifier.add(Dense(128,activation='relu'))\n",
        "classifier.add(Dense(1,activation='sigmoid'))"
      ],
      "execution_count": null,
      "outputs": []
    },
    {
      "cell_type": "code",
      "metadata": {
        "id": "Tgp0s08QmnP-"
      },
      "source": [
        "# compiling all\n",
        "# Now at last we will use compile function on the sequential object which takes 3 parameters,\n",
        "# 1.\tOptimizer parameter is to choose the stochastic gradient descent algorithm.\n",
        "# 2.\tLoss parameter is to choose the loss function.\n",
        "# 3.\tFinally, the metrics parameter is to choose the performance metric.\n",
        "\n",
        "classifier.compile(optimizer='adam',loss='binary_crossentropy',metrics=['accuracy'])"
      ],
      "execution_count": null,
      "outputs": []
    },
    {
      "cell_type": "code",
      "metadata": {
        "colab": {
          "base_uri": "https://localhost:8080/"
        },
        "id": "zbnYLl4KmyW1",
        "outputId": "49de04c0-9016-4e59-b78b-143fac345b9d"
      },
      "source": [
        "# fitting the CNN to the image\n",
        "#  Import Data Generator using keras.preprocessing library for the synthesizing part.\n",
        "# Also, to prepare the training set as well as the test test set of images from structured directories. \n",
        "# i.e. All the images inside the ‘cats’ folder will be considered as cats.\n",
        "\n",
        "\n",
        "from keras.preprocessing.image import ImageDataGenerator\n",
        "train_datagen = ImageDataGenerator(\n",
        "        rescale=1./255,\n",
        "        shear_range=0.2,\n",
        "        zoom_range=0.2,\n",
        "        horizontal_flip=True)\n",
        "\n",
        "test_datagen = ImageDataGenerator(rescale=1./255)\n",
        "\n",
        "training_set = train_datagen.flow_from_directory(\n",
        "        '/content/gdrive/My Drive/Pothole_Image_Data/train',\n",
        "        target_size=(64, 64),\n",
        "        batch_size=10,\n",
        "        class_mode='binary')\n",
        "\n",
        "test_set = test_datagen.flow_from_directory(\n",
        "        '/content/gdrive/My Drive/Pothole_Image_Data/test',\n",
        "        target_size=(64, 64),\n",
        "        batch_size=10,\n",
        "        class_mode='binary')"
      ],
      "execution_count": null,
      "outputs": [
        {
          "output_type": "stream",
          "name": "stdout",
          "text": [
            "Found 704 images belonging to 2 classes.\n",
            "Found 154 images belonging to 2 classes.\n"
          ]
        }
      ]
    },
    {
      "cell_type": "code",
      "metadata": {
        "colab": {
          "base_uri": "https://localhost:8080/"
        },
        "id": "ju2JOxXVlOky",
        "outputId": "0405ab8b-e296-427b-d9ce-7f01adfd4970"
      },
      "source": [
        "# To fit the data to our model we are using fit_generator function on the object which takes 5 arguments,\n",
        "# 1.\tThe training set object. i.e. here training_set\n",
        "# 2.\tThe “steps_per_epoch” holds the number of training images. i.e. the number of images in training folde.\n",
        "# 3.\tThe epoch is a single step in training a neural network.\n",
        "# 4.\tThe test set object. i.e. here test_set\n",
        "\n",
        "history = classifier.fit_generator(training_set,epochs = 10,validation_data = test_set, validation_steps = 10)"
      ],
      "execution_count": null,
      "outputs": [
        {
          "output_type": "stream",
          "name": "stderr",
          "text": [
            "/usr/local/lib/python3.7/dist-packages/ipykernel_launcher.py:7: UserWarning: `Model.fit_generator` is deprecated and will be removed in a future version. Please use `Model.fit`, which supports generators.\n",
            "  import sys\n"
          ]
        },
        {
          "output_type": "stream",
          "name": "stdout",
          "text": [
            "Epoch 1/10\n",
            "71/71 [==============================] - 54s 548ms/step - loss: 0.5066 - accuracy: 0.8097 - val_loss: 1.0945 - val_accuracy: 0.5400\n",
            "Epoch 2/10\n",
            "71/71 [==============================] - 38s 540ms/step - loss: 0.4019 - accuracy: 0.8381 - val_loss: 0.5607 - val_accuracy: 0.7200\n",
            "Epoch 3/10\n",
            "71/71 [==============================] - 39s 546ms/step - loss: 0.1474 - accuracy: 0.9560 - val_loss: 0.2224 - val_accuracy: 0.9100\n",
            "Epoch 4/10\n",
            "71/71 [==============================] - 39s 545ms/step - loss: 0.0840 - accuracy: 0.9730 - val_loss: 0.7220 - val_accuracy: 0.8000\n",
            "Epoch 5/10\n",
            "71/71 [==============================] - 39s 549ms/step - loss: 0.0700 - accuracy: 0.9801 - val_loss: 0.3421 - val_accuracy: 0.8900\n",
            "Epoch 6/10\n",
            "71/71 [==============================] - 39s 545ms/step - loss: 0.0905 - accuracy: 0.9673 - val_loss: 0.4253 - val_accuracy: 0.8500\n",
            "Epoch 7/10\n",
            "71/71 [==============================] - 37s 530ms/step - loss: 0.0592 - accuracy: 0.9830 - val_loss: 0.2537 - val_accuracy: 0.9200\n",
            "Epoch 8/10\n",
            "71/71 [==============================] - 39s 548ms/step - loss: 0.0815 - accuracy: 0.9801 - val_loss: 0.2707 - val_accuracy: 0.8800\n",
            "Epoch 9/10\n",
            "71/71 [==============================] - 38s 537ms/step - loss: 0.0500 - accuracy: 0.9801 - val_loss: 0.1569 - val_accuracy: 0.9600\n",
            "Epoch 10/10\n",
            "71/71 [==============================] - 39s 547ms/step - loss: 0.0640 - accuracy: 0.9830 - val_loss: 0.1606 - val_accuracy: 0.9500\n"
          ]
        }
      ]
    },
    {
      "cell_type": "code",
      "metadata": {
        "id": "cqXs9lnqmyLb",
        "colab": {
          "base_uri": "https://localhost:8080/",
          "height": 295
        },
        "outputId": "ce21ae8a-c93c-472f-ee42-9734dc68d608"
      },
      "source": [
        "loss_train = history.history['accuracy']\n",
        "loss_val = history.history['val_accuracy']\n",
        "epochs = range(1,11)\n",
        "plt.plot(epochs, loss_train, 'g', label='Training accuracy')\n",
        "plt.plot(epochs, loss_val, 'b', label='validation accuracy')\n",
        "plt.title('Training and Validation accuracy')\n",
        "plt.xlabel('Epochs')\n",
        "plt.ylabel('Accuracy')\n",
        "plt.legend()\n",
        "plt.show()"
      ],
      "execution_count": null,
      "outputs": [
        {
          "output_type": "display_data",
          "data": {
            "image/png": "[encoded data removed]",
            "text/plain": [
              "<Figure size 432x288 with 1 Axes>"
            ]
          },
          "metadata": {
            "needs_background": "light"
          }
        }
      ]
    },
    {
      "cell_type": "code",
      "metadata": {
        "id": "1T2BnJsDm5b2",
        "colab": {
          "base_uri": "https://localhost:8080/",
          "height": 295
        },
        "outputId": "d0af8f83-168d-472e-f768-5c655f6bbfd6"
      },
      "source": [
        "loss_train = history.history['loss']\n",
        "loss_val = history.history['val_loss']\n",
        "epochs = range(1,11)\n",
        "plt.plot(epochs, loss_train, 'g', label='Training loss')\n",
        "plt.plot(epochs, loss_val, 'b', label='validation loss')\n",
        "plt.title('Training and Validation loss')\n",
        "plt.xlabel('Epochs')\n",
        "plt.ylabel('Loss')\n",
        "plt.legend()\n",
        "plt.show()"
      ],
      "execution_count": null,
      "outputs": [
        {
          "output_type": "display_data",
          "data": {
            "image/png": "[encoded data removed]",
            "text/plain": [
              "<Figure size 432x288 with 1 Axes>"
            ]
          },
          "metadata": {
            "needs_background": "light"
          }
        }
      ]
    }
  ]
}